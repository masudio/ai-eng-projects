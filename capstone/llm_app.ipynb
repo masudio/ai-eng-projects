{
 "cells": [
  {
   "cell_type": "markdown",
   "metadata": {},
   "source": [
    "# Capstone LLM Application\n",
    "\n",
    "This notebook is for building a custom LLM application as part of the capstone project.\n",
    "Starting with GPT-2 as the base model and expanding from there."
   ]
  },
  {
   "cell_type": "markdown",
   "metadata": {},
   "source": [
    "## Setup and Dependencies"
   ]
  },
  {
   "cell_type": "code",
   "execution_count": null,
   "metadata": {},
   "outputs": [],
   "source": [
    "# Install required packages if needed\n",
    "# !pip install torch transformers tiktoken numpy"
   ]
  },
  {
   "cell_type": "code",
   "execution_count": null,
   "metadata": {},
   "outputs": [],
   "source": [
    "import torch\n",
    "import torch.nn.functional as F\n",
    "from transformers import GPT2LMHeadModel, GPT2TokenizerFast, AutoTokenizer, AutoModelForCausalLM\n",
    "import numpy as np\n",
    "import warnings\n",
    "warnings.filterwarnings('ignore')\n",
    "\n",
    "print(f\"PyTorch version: {torch.__version__}\")\n",
    "print(f\"CUDA available: {torch.cuda.is_available()}\")\n",
    "if torch.cuda.is_available():\n",
    "    print(f\"CUDA device: {torch.cuda.get_device_name(0)}\")"
   ]
  },
  {
   "cell_type": "markdown",
   "metadata": {},
   "source": [
    "## Load GPT-2 Model"
   ]
  },
  {
   "cell_type": "code",
   "execution_count": null,
   "metadata": {},
   "outputs": [],
   "source": [
    "# Load GPT-2 model and tokenizer\n",
    "model_name = \"gpt2\"\n",
    "tokenizer = GPT2TokenizerFast.from_pretrained(model_name)\n",
    "model = GPT2LMHeadModel.from_pretrained(model_name)\n",
    "\n",
    "# Set to evaluation mode\n",
    "model.eval()\n",
    "\n",
    "# Move to GPU if available\n",
    "device = torch.device(\"cuda\" if torch.cuda.is_available() else \"cpu\")\n",
    "model = model.to(device)\n",
    "\n",
    "print(f\"Model loaded: {model_name}\")\n",
    "print(f\"Device: {device}\")\n",
    "print(f\"Vocabulary size: {tokenizer.vocab_size}\")\n",
    "print(f\"Model parameters: {model.num_parameters():,}\")"
   ]
  },
  {
   "cell_type": "markdown",
   "metadata": {},
   "source": [
    "## Text Generation Functions"
   ]
  },
  {
   "cell_type": "code",
   "execution_count": null,
   "metadata": {},
   "outputs": [],
   "source": [
    "def generate_text(prompt, max_length=100, temperature=1.0, top_k=50, top_p=0.9, strategy=\"top_p\"):\n",
    "    \"\"\"\n",
    "    Generate text using different decoding strategies.\n",
    "    \n",
    "    Args:\n",
    "        prompt (str): Input text prompt\n",
    "        max_length (int): Maximum length of generated text\n",
    "        temperature (float): Sampling temperature (higher = more random)\n",
    "        top_k (int): Top-k sampling parameter\n",
    "        top_p (float): Top-p (nucleus) sampling parameter\n",
    "        strategy (str): Decoding strategy ('greedy', 'top_k', 'top_p')\n",
    "    \n",
    "    Returns:\n",
    "        str: Generated text\n",
    "    \"\"\"\n",
    "    # Encode the prompt\n",
    "    input_ids = tokenizer.encode(prompt, return_tensors=\"pt\").to(device)\n",
    "    \n",
    "    with torch.no_grad():\n",
    "        if strategy == \"greedy\":\n",
    "            # Greedy decoding\n",
    "            outputs = model.generate(\n",
    "                input_ids,\n",
    "                max_length=max_length,\n",
    "                do_sample=False,\n",
    "                pad_token_id=tokenizer.eos_token_id\n",
    "            )\n",
    "        elif strategy == \"top_k\":\n",
    "            # Top-k sampling\n",
    "            outputs = model.generate(\n",
    "                input_ids,\n",
    "                max_length=max_length,\n",
    "                do_sample=True,\n",
    "                top_k=top_k,\n",
    "                temperature=temperature,\n",
    "                pad_token_id=tokenizer.eos_token_id\n",
    "            )\n",
    "        elif strategy == \"top_p\":\n",
    "            # Top-p (nucleus) sampling\n",
    "            outputs = model.generate(\n",
    "                input_ids,\n",
    "                max_length=max_length,\n",
    "                do_sample=True,\n",
    "                top_p=top_p,\n",
    "                temperature=temperature,\n",
    "                pad_token_id=tokenizer.eos_token_id\n",
    "            )\n",
    "    \n",
    "    # Decode and return the generated text\n",
    "    generated_text = tokenizer.decode(outputs[0], skip_special_tokens=True)\n",
    "    return generated_text"
   ]
  },
  {
   "cell_type": "markdown",
   "metadata": {},
   "source": [
    "## Interactive Text Generation"
   ]
  },
  {
   "cell_type": "code",
   "execution_count": null,
   "metadata": {},
   "outputs": [],
   "source": [
    "# Test the model with different prompts and strategies\n",
    "test_prompts = [\n",
    "    \"Once upon a time in a magical kingdom,\",\n",
    "    \"The future of artificial intelligence is\",\n",
    "    \"In the year 2030, technology will\",\n",
    "    \"The most important lesson I learned was\"\n",
    "]\n",
    "\n",
    "strategies = [\"greedy\", \"top_k\", \"top_p\"]\n",
    "\n",
    "for prompt in test_prompts[:2]:  # Test first 2 prompts\n",
    "    print(f\"\\n{'='*60}\")\n",
    "    print(f\"PROMPT: {prompt}\")\n",
    "    print(f\"{'='*60}\")\n",
    "    \n",
    "    for strategy in strategies:\n",
    "        print(f\"\\n--- {strategy.upper()} ---\")\n",
    "        generated = generate_text(\n",
    "            prompt, \n",
    "            max_length=80, \n",
    "            temperature=0.8, \n",
    "            strategy=strategy\n",
    "        )\n",
    "        print(generated)"
   ]
  },
  {
   "cell_type": "markdown",
   "metadata": {},
   "source": [
    "## Custom Application Development\n",
    "\n",
    "This section is for building your custom LLM application."
   ]
  },
  {
   "cell_type": "code",
   "execution_count": null,
   "metadata": {},
   "outputs": [],
   "source": [
    "# Your custom application code goes here\n",
    "# Ideas:\n",
    "# - Text completion assistant\n",
    "# - Story generator\n",
    "# - Code documentation generator\n",
    "# - Creative writing helper\n",
    "# - Conversation simulator\n",
    "\n",
    "def custom_llm_app(user_input):\n",
    "    \"\"\"\n",
    "    Your custom LLM application function.\n",
    "    Modify this to implement your specific use case.\n",
    "    \"\"\"\n",
    "    # Example: Simple completion with context\n",
    "    context = \"You are a helpful assistant. \"\n",
    "    full_prompt = context + user_input\n",
    "    \n",
    "    response = generate_text(\n",
    "        full_prompt,\n",
    "        max_length=150,\n",
    "        temperature=0.7,\n",
    "        strategy=\"top_p\"\n",
    "    )\n",
    "    \n",
    "    # Extract only the new generated text (remove the prompt)\n",
    "    return response[len(full_prompt):].strip()\n",
    "\n",
    "# Test your custom application\n",
    "test_input = \"What are the benefits of machine learning?\"\n",
    "result = custom_llm_app(test_input)\n",
    "print(f\"Input: {test_input}\")\n",
    "print(f\"Output: {result}\")"
   ]
  },
  {
   "cell_type": "markdown",
   "metadata": {},
   "source": [
    "## Model Analysis and Experimentation"
   ]
  },
  {
   "cell_type": "code",
   "execution_count": null,
   "metadata": {},
   "outputs": [],
   "source": [
    "# Analyze model behavior with different parameters\n",
    "def analyze_generation_parameters(prompt, temperatures=[0.3, 0.7, 1.0, 1.5]):\n",
    "    \"\"\"\n",
    "    Analyze how different temperature values affect generation.\n",
    "    \"\"\"\n",
    "    print(f\"Prompt: {prompt}\")\n",
    "    print(\"\\nTemperature Analysis:\")\n",
    "    \n",
    "    for temp in temperatures:\n",
    "        generated = generate_text(\n",
    "            prompt,\n",
    "            max_length=60,\n",
    "            temperature=temp,\n",
    "            strategy=\"top_p\"\n",
    "        )\n",
    "        print(f\"\\nT={temp}: {generated}\")\n",
    "\n",
    "# Run analysis\n",
    "analyze_generation_parameters(\"The secret to happiness is\")"
   ]
  },
  {
   "cell_type": "markdown",
   "metadata": {},
   "source": [
    "## Next Steps and Extensions\n",
    "\n",
    "Ideas for extending this notebook:\n",
    "1. **Fine-tuning**: Fine-tune GPT-2 on custom data\n",
    "2. **Prompt Engineering**: Experiment with different prompt formats\n",
    "3. **Multi-model Comparison**: Compare GPT-2 with other models\n",
    "4. **Interactive UI**: Build a Streamlit or Gradio interface\n",
    "5. **Retrieval Augmentation**: Add RAG capabilities\n",
    "6. **Function Calling**: Add tool use capabilities\n",
    "7. **Memory**: Implement conversation memory\n",
    "8. **Evaluation**: Add metrics and evaluation functions"
   ]
  },
  {
   "cell_type": "code",
   "execution_count": null,
   "metadata": {},
   "outputs": [],
   "source": [
    "# Placeholder for future extensions\n",
    "# Add your custom development here\n",
    "\n",
    "print(\"Notebook ready for development!\")\n",
    "print(\"\\nQuick usage:\")\n",
    "print('generate_text(\"Your prompt here\", strategy=\"top_p\", temperature=0.8)')"
   ]
  }
 ],
 "metadata": {
  "kernelspec": {
   "display_name": "Python 3",
   "language": "python",
   "name": "python3"
  },
  "language_info": {
   "codemirror_mode": {
    "name": "ipython",
    "version": 3
   },
   "file_extension": ".py",
   "mimetype": "text/x-python",
   "name": "python",
   "nbconvert_exporter": "python",
   "pygments_lexer": "ipython3",
   "version": "3.8.5"
  }
 },
 "nbformat": 4,
 "nbformat_minor": 4
}